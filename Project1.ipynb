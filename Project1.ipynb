{
 "cells": [
  {
   "cell_type": "code",
   "execution_count": 4,
   "id": "100ba671",
   "metadata": {},
   "outputs": [],
   "source": [
    "import pandas as pd\n",
    "import numpy as np\n",
    "from sklearn.model_selection import train_test_split\n",
    "from sklearn.metrics import accuracy_score\n",
    "from sklearn.datasets import load_iris"
   ]
  },
  {
   "cell_type": "code",
   "execution_count": 5,
   "id": "a5dc7ddf",
   "metadata": {},
   "outputs": [
    {
     "name": "stdout",
     "output_type": "stream",
     "text": [
      "   sepal length (cm)  sepal width (cm)  petal length (cm)  petal width (cm)\n",
      "0                5.1               3.5                1.4               0.2\n",
      "1                4.9               3.0                1.4               0.2\n",
      "2                4.7               3.2                1.3               0.2\n",
      "3                4.6               3.1                1.5               0.2\n",
      "4                5.0               3.6                1.4               0.2\n"
     ]
    }
   ],
   "source": [
    "iris = load_iris()\n",
    "dataset = pd.DataFrame(iris.data, columns = iris.feature_names)\n",
    "print(dataset.head())"
   ]
  },
  {
   "cell_type": "code",
   "execution_count": 6,
   "id": "3be9a1ce",
   "metadata": {},
   "outputs": [],
   "source": [
    "dataset['target'] = iris.target"
   ]
  },
  {
   "cell_type": "code",
   "execution_count": 7,
   "id": "0aaff7e1",
   "metadata": {},
   "outputs": [
    {
     "name": "stdout",
     "output_type": "stream",
     "text": [
      "0      0\n",
      "1      0\n",
      "2      0\n",
      "3      0\n",
      "4      0\n",
      "      ..\n",
      "145    2\n",
      "146    2\n",
      "147    2\n",
      "148    2\n",
      "149    2\n",
      "Name: target, Length: 150, dtype: int32\n"
     ]
    }
   ],
   "source": [
    "print(dataset['target'])"
   ]
  },
  {
   "cell_type": "code",
   "execution_count": 8,
   "id": "1d3050ed",
   "metadata": {},
   "outputs": [],
   "source": [
    "x_train , x_test , y_train , y_test = train_test_split(np.array(dataset)[:,:4], np.array(dataset)[:,4], random_state=50, test_size = 0.25)"
   ]
  },
  {
   "cell_type": "code",
   "execution_count": 9,
   "id": "d0e6169e",
   "metadata": {},
   "outputs": [
    {
     "name": "stdout",
     "output_type": "stream",
     "text": [
      "1.0\n"
     ]
    }
   ],
   "source": [
    "print(y_train[0])"
   ]
  },
  {
   "cell_type": "code",
   "execution_count": 10,
   "id": "5dae3d05",
   "metadata": {},
   "outputs": [
    {
     "name": "stdout",
     "output_type": "stream",
     "text": [
      "[[1. 0. 0.]\n",
      " [0. 0. 1.]\n",
      " [0. 0. 1.]\n",
      " [1. 0. 0.]\n",
      " [0. 1. 0.]\n",
      " [0. 0. 1.]\n",
      " [0. 1. 0.]\n",
      " [0. 0. 1.]\n",
      " [0. 0. 1.]\n",
      " [0. 0. 1.]\n",
      " [0. 1. 0.]\n",
      " [0. 1. 0.]\n",
      " [1. 0. 0.]\n",
      " [0. 0. 1.]\n",
      " [0. 0. 1.]\n",
      " [1. 0. 0.]\n",
      " [0. 1. 0.]\n",
      " [1. 0. 0.]\n",
      " [1. 0. 0.]\n",
      " [0. 0. 1.]\n",
      " [0. 0. 1.]\n",
      " [0. 1. 0.]\n",
      " [0. 1. 0.]\n",
      " [1. 0. 0.]\n",
      " [0. 1. 0.]\n",
      " [0. 0. 1.]\n",
      " [0. 0. 1.]\n",
      " [0. 1. 0.]\n",
      " [1. 0. 0.]\n",
      " [0. 0. 1.]\n",
      " [1. 0. 0.]\n",
      " [0. 0. 1.]\n",
      " [0. 1. 0.]\n",
      " [0. 1. 0.]\n",
      " [1. 0. 0.]\n",
      " [0. 1. 0.]\n",
      " [1. 0. 0.]\n",
      " [0. 0. 1.]\n",
      " [1. 0. 0.]\n",
      " [0. 0. 1.]\n",
      " [1. 0. 0.]\n",
      " [1. 0. 0.]\n",
      " [0. 0. 1.]\n",
      " [0. 0. 1.]\n",
      " [1. 0. 0.]\n",
      " [0. 0. 1.]\n",
      " [1. 0. 0.]\n",
      " [0. 0. 1.]\n",
      " [1. 0. 0.]\n",
      " [0. 1. 0.]\n",
      " [0. 1. 0.]\n",
      " [0. 1. 0.]\n",
      " [1. 0. 0.]\n",
      " [0. 1. 0.]\n",
      " [0. 0. 1.]\n",
      " [0. 1. 0.]\n",
      " [0. 0. 1.]\n",
      " [1. 0. 0.]\n",
      " [0. 0. 1.]\n",
      " [0. 1. 0.]\n",
      " [0. 0. 1.]\n",
      " [0. 0. 1.]\n",
      " [0. 1. 0.]\n",
      " [0. 1. 0.]\n",
      " [0. 1. 0.]\n",
      " [0. 1. 0.]\n",
      " [0. 0. 1.]\n",
      " [0. 1. 0.]\n",
      " [1. 0. 0.]\n",
      " [0. 1. 0.]\n",
      " [1. 0. 0.]\n",
      " [0. 0. 1.]\n",
      " [1. 0. 0.]\n",
      " [0. 1. 0.]\n",
      " [0. 0. 1.]\n",
      " [0. 1. 0.]\n",
      " [1. 0. 0.]\n",
      " [1. 0. 0.]\n",
      " [1. 0. 0.]\n",
      " [1. 0. 0.]\n",
      " [0. 1. 0.]\n",
      " [1. 0. 0.]\n",
      " [0. 0. 1.]\n",
      " [0. 1. 0.]\n",
      " [0. 0. 1.]\n",
      " [0. 1. 0.]\n",
      " [0. 0. 1.]\n",
      " [1. 0. 0.]\n",
      " [0. 1. 0.]\n",
      " [0. 0. 1.]\n",
      " [0. 0. 1.]\n",
      " [1. 0. 0.]\n",
      " [0. 1. 0.]\n",
      " [1. 0. 0.]\n",
      " [0. 0. 1.]\n",
      " [0. 0. 1.]\n",
      " [0. 0. 1.]\n",
      " [0. 1. 0.]\n",
      " [1. 0. 0.]\n",
      " [1. 0. 0.]\n",
      " [0. 1. 0.]\n",
      " [1. 0. 0.]\n",
      " [1. 0. 0.]\n",
      " [0. 0. 1.]\n",
      " [0. 1. 0.]\n",
      " [0. 0. 1.]\n",
      " [0. 1. 0.]\n",
      " [1. 0. 0.]\n",
      " [0. 1. 0.]\n",
      " [0. 0. 1.]\n",
      " [0. 1. 0.]\n",
      " [0. 1. 0.]]\n",
      "[[1. 0. 0.]\n",
      " [1. 0. 0.]\n",
      " [0. 0. 1.]\n",
      " [0. 0. 1.]\n",
      " [0. 1. 0.]\n",
      " [0. 1. 0.]\n",
      " [0. 1. 0.]\n",
      " [0. 0. 1.]\n",
      " [0. 0. 1.]\n",
      " [1. 0. 0.]\n",
      " [0. 0. 1.]\n",
      " [0. 1. 0.]\n",
      " [0. 0. 1.]\n",
      " [0. 1. 0.]\n",
      " [1. 0. 0.]\n",
      " [0. 0. 1.]\n",
      " [1. 0. 0.]\n",
      " [0. 0. 1.]\n",
      " [1. 0. 0.]\n",
      " [1. 0. 0.]\n",
      " [0. 1. 0.]\n",
      " [1. 0. 0.]\n",
      " [0. 0. 1.]\n",
      " [0. 1. 0.]\n",
      " [1. 0. 0.]\n",
      " [0. 1. 0.]\n",
      " [1. 0. 0.]\n",
      " [1. 0. 0.]\n",
      " [1. 0. 0.]\n",
      " [0. 1. 0.]\n",
      " [0. 1. 0.]\n",
      " [1. 0. 0.]\n",
      " [1. 0. 0.]\n",
      " [0. 1. 0.]\n",
      " [0. 0. 1.]\n",
      " [0. 0. 1.]\n",
      " [1. 0. 0.]\n",
      " [0. 1. 0.]]\n"
     ]
    }
   ],
   "source": [
    "import tensorflow as tf\n",
    "\n",
    "y_train = tf.keras.utils.to_categorical(y_train-1, num_classes=3)\n",
    "print(y_train)\n",
    "y_test = tf.keras.utils.to_categorical(y_test-1, num_classes=3)\n",
    "print(y_test)"
   ]
  },
  {
   "cell_type": "code",
   "execution_count": 11,
   "id": "28eaf8f4",
   "metadata": {},
   "outputs": [
    {
     "data": {
      "text/plain": [
       "array([1., 0., 0.], dtype=float32)"
      ]
     },
     "execution_count": 11,
     "metadata": {},
     "output_type": "execute_result"
    }
   ],
   "source": [
    "y_train[0]"
   ]
  },
  {
   "cell_type": "code",
   "execution_count": 12,
   "id": "30673474",
   "metadata": {},
   "outputs": [],
   "source": [
    "from keras.models import Sequential\n",
    "from keras.layers import Dense\n",
    "\n",
    "# define the keras model\n",
    "model = Sequential()\n",
    "model.add(Dense(12,  input_dim=4, activation='relu'))\n",
    "model.add(Dense(8, activation='relu'))\n",
    "model.add(Dense(3, activation='softmax'))\n",
    "\n",
    "sgd = tf.keras.optimizers.SGD(learning_rate=0.001, momentum=0.9, nesterov=True)\n",
    "\n",
    "#adam = keras.optimizers.Adam(learning_rate=0.01)\n",
    "\n",
    "# compile the keras model\n",
    "model.compile(loss='categorical_crossentropy', optimizer= sgd, metrics=['accuracy'])"
   ]
  },
  {
   "cell_type": "code",
   "execution_count": 13,
   "id": "15ac20af",
   "metadata": {},
   "outputs": [
    {
     "name": "stdout",
     "output_type": "stream",
     "text": [
      "Epoch 1/28\n",
      "8/8 [==============================] - 1s 6ms/step - loss: 1.2505 - accuracy: 0.5893\n",
      "Epoch 2/28\n",
      "8/8 [==============================] - 0s 4ms/step - loss: 1.1199 - accuracy: 0.3482\n",
      "Epoch 3/28\n",
      "8/8 [==============================] - 0s 3ms/step - loss: 1.0864 - accuracy: 0.4375\n",
      "Epoch 4/28\n",
      "8/8 [==============================] - 0s 4ms/step - loss: 1.0284 - accuracy: 0.4643\n",
      "Epoch 5/28\n",
      "8/8 [==============================] - 0s 4ms/step - loss: 0.9932 - accuracy: 0.4286\n",
      "Epoch 6/28\n",
      "8/8 [==============================] - 0s 4ms/step - loss: 0.9710 - accuracy: 0.6518\n",
      "Epoch 7/28\n",
      "8/8 [==============================] - 0s 4ms/step - loss: 0.9521 - accuracy: 0.6786\n",
      "Epoch 8/28\n",
      "8/8 [==============================] - 0s 5ms/step - loss: 0.9347 - accuracy: 0.7054\n",
      "Epoch 9/28\n",
      "8/8 [==============================] - 0s 5ms/step - loss: 0.9163 - accuracy: 0.7321\n",
      "Epoch 10/28\n",
      "8/8 [==============================] - 0s 5ms/step - loss: 0.8887 - accuracy: 0.8393\n",
      "Epoch 11/28\n",
      "8/8 [==============================] - 0s 3ms/step - loss: 0.8675 - accuracy: 0.6875\n",
      "Epoch 12/28\n",
      "8/8 [==============================] - 0s 4ms/step - loss: 0.8388 - accuracy: 0.6964\n",
      "Epoch 13/28\n",
      "8/8 [==============================] - 0s 4ms/step - loss: 0.8136 - accuracy: 0.7143\n",
      "Epoch 14/28\n",
      "8/8 [==============================] - 0s 4ms/step - loss: 0.7869 - accuracy: 0.7321\n",
      "Epoch 15/28\n",
      "8/8 [==============================] - 0s 4ms/step - loss: 0.7602 - accuracy: 0.7321\n",
      "Epoch 16/28\n",
      "8/8 [==============================] - 0s 4ms/step - loss: 0.7313 - accuracy: 0.6875\n",
      "Epoch 17/28\n",
      "8/8 [==============================] - 0s 4ms/step - loss: 0.7041 - accuracy: 0.6964\n",
      "Epoch 18/28\n",
      "8/8 [==============================] - 0s 4ms/step - loss: 0.6833 - accuracy: 0.8482\n",
      "Epoch 19/28\n",
      "8/8 [==============================] - 0s 4ms/step - loss: 0.6509 - accuracy: 0.7143\n",
      "Epoch 20/28\n",
      "8/8 [==============================] - 0s 4ms/step - loss: 0.6334 - accuracy: 0.6875\n",
      "Epoch 21/28\n",
      "8/8 [==============================] - 0s 4ms/step - loss: 0.6035 - accuracy: 0.8214\n",
      "Epoch 22/28\n",
      "8/8 [==============================] - 0s 4ms/step - loss: 0.5827 - accuracy: 0.9107\n",
      "Epoch 23/28\n",
      "8/8 [==============================] - 0s 4ms/step - loss: 0.5632 - accuracy: 0.7589\n",
      "Epoch 24/28\n",
      "8/8 [==============================] - 0s 3ms/step - loss: 0.5390 - accuracy: 0.9018\n",
      "Epoch 25/28\n",
      "8/8 [==============================] - 0s 4ms/step - loss: 0.5207 - accuracy: 0.9643\n",
      "Epoch 26/28\n",
      "8/8 [==============================] - 0s 5ms/step - loss: 0.5054 - accuracy: 0.7768\n",
      "Epoch 27/28\n",
      "8/8 [==============================] - 0s 5ms/step - loss: 0.4867 - accuracy: 0.8839\n",
      "Epoch 28/28\n",
      "8/8 [==============================] - 0s 5ms/step - loss: 0.4733 - accuracy: 0.9643\n",
      "2/2 [==============================] - 0s 11ms/step - loss: 0.4970 - accuracy: 0.8947\n",
      "Accuracy: 89.47\n"
     ]
    }
   ],
   "source": [
    "history = model.fit(x_train, y_train, epochs=28, batch_size=15)\n",
    "\n",
    "# evaluate the keras model\n",
    "_, accuracy = model.evaluate(x_test, y_test)\n",
    "print('Accuracy: %.2f' % (accuracy*100))"
   ]
  },
  {
   "cell_type": "code",
   "execution_count": null,
   "id": "bdd49b05",
   "metadata": {},
   "outputs": [],
   "source": []
  }
 ],
 "metadata": {
  "kernelspec": {
   "display_name": "Python 3 (ipykernel)",
   "language": "python",
   "name": "python3"
  },
  "language_info": {
   "codemirror_mode": {
    "name": "ipython",
    "version": 3
   },
   "file_extension": ".py",
   "mimetype": "text/x-python",
   "name": "python",
   "nbconvert_exporter": "python",
   "pygments_lexer": "ipython3",
   "version": "3.11.3"
  }
 },
 "nbformat": 4,
 "nbformat_minor": 5
}
